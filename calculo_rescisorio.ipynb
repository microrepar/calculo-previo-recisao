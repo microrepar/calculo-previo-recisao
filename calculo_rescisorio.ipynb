{
 "cells": [
  {
   "cell_type": "code",
   "execution_count": 11,
   "metadata": {},
   "outputs": [],
   "source": [
    "import datetime\n",
    "import calendar\n",
    "import math"
   ]
  },
  {
   "cell_type": "markdown",
   "metadata": {},
   "source": [
    "## Dados de entrada"
   ]
  },
  {
   "cell_type": "code",
   "execution_count": 12,
   "metadata": {},
   "outputs": [],
   "source": [
    "QTDE_DIAS_MES = 30\n",
    "EMPRESA = ''\n",
    "FUNCIONARIO = ''\n",
    "\n",
    "MOTIVO = {\n",
    "    'DISPENSA_DO_EMPREGADO_SEM_JUSTA_CAUSA': 1,\n",
    "    'PEDIDO_DE_DEMISSÃO_POR_INICIATIVA_DO_EMPREGADO': 2,\n",
    "    'TÉRMINO_DE_CONTRATO_DE_TRABALHO_A_TERMO': 3,\n",
    "}['DISPENSA_DO_EMPREGADO_SEM_JUSTA_CAUSA']\n",
    "\n",
    "DATA_ADMISSAO = datetime.datetime.strptime('01/01/2019', '%d/%m/%Y')\n",
    "DATA_DEMISSAO = datetime.datetime.strptime('30/04/2020', '%d/%m/%Y')\n",
    "\n",
    "SALARIO_BASE = 2_500\n",
    "\n",
    "MEDIAS_HORA_EXTRA = 0.0\n",
    "\n",
    "AVISO_PREVIO = {\n",
    "    'INDENIZADO': 1,\n",
    "    'TRABALHADO': 2,\n",
    "    'NAO_TRABALHADO': 3,\n",
    "}['INDENIZADO']\n",
    "\n",
    "\n",
    "FERIAS_VENCIDAS = {\n",
    "    'NAO': 1,\n",
    "    'SIM': 2,\n",
    "    'EM_DOBRO': 3,\n",
    "}['NAO']\n",
    "\n",
    "HORAS_EXTRAS_PERCENTUAL = 50/100\n",
    "HORAS_EXTRAS_QUANTIDADE = 0.0\n",
    "HORA_EXTRA_100 = 0.0\n",
    "ATRASOS_FALTAS = 0.0\n",
    "DEPENDENTES = 0"
   ]
  },
  {
   "cell_type": "markdown",
   "metadata": {},
   "source": [
    "### Tabela contribuição INSS"
   ]
  },
  {
   "cell_type": "code",
   "execution_count": 13,
   "metadata": {},
   "outputs": [],
   "source": [
    "TABELA_INSS = {\n",
    "    1: (7.5/100, 1_320.01, 0.00),\n",
    "    2: (9/100, 2_571.30, 18.18),\n",
    "    3: (12/100, 3_856.95, 91.01),\n",
    "    4: (14/100, 7_507.50, 163.00),\n",
    "    5: (14/100, 7_507.50, 163.00),\n",
    "}\n",
    "\n",
    "\n",
    "def get_percentual_contribuicao_inss(valor_base: float):\n",
    "    if valor_base <= TABELA_INSS[1][1]:\n",
    "        return TABELA_INSS[1][0]\n",
    "    elif valor_base <= TABELA_INSS[2][1]:\n",
    "        return TABELA_INSS[2][0]\n",
    "    elif valor_base <= TABELA_INSS[3][1]:\n",
    "        return TABELA_INSS[3][0]\n",
    "    elif valor_base <= TABELA_INSS[4][1]-0.01:\n",
    "        return TABELA_INSS[4][0]\n",
    "    else:\n",
    "        return TABELA_INSS[5][0]\n",
    "    \n",
    "\n",
    "def get_valor_contribuicao_inss(valor_base: float):\n",
    "    percentual_contribuicao = get_percentual_contribuicao_inss(valor_base)\n",
    "    if valor_base > TABELA_INSS[5][1]-0.01:\n",
    "        result = ((TABELA_INSS[5][1]-0.01) * percentual_contribuicao) - TABELA_INSS[5][2]\n",
    "    else:\n",
    "        result = valor_base * percentual_contribuicao\n",
    "    \n",
    "    return round(result, 2)"
   ]
  },
  {
   "cell_type": "markdown",
   "metadata": {},
   "source": [
    "### Tabela de dedução IRRF"
   ]
  },
  {
   "cell_type": "code",
   "execution_count": 14,
   "metadata": {},
   "outputs": [],
   "source": [
    "TABELA_IRRF = {\n",
    "    1: (0/100, 2_112.00, 0.0),\n",
    "    2: (7.5/100, 2_826.65, 158.40),\n",
    "    3: (15/100, 3_751.05, 370.40),\n",
    "    4: (22.5/100, 4_664.68, 651.73),\n",
    "    5: (27.5/100, 4_664.69, 884.96),\n",
    "    6: ('DEDUÇÃO/DEPENDENTE', 189.59),\n",
    "}\n",
    "\n",
    "def get_percentual_irrf(valor_base):\n",
    "    if valor_base <= TABELA_IRRF[1][1]:\n",
    "        return TABELA_IRRF[1][0]\n",
    "    elif valor_base <= TABELA_IRRF[2][1]:\n",
    "        return TABELA_IRRF[2][0]\n",
    "    elif valor_base <= TABELA_IRRF[3][1]:\n",
    "        return TABELA_IRRF[3][0]\n",
    "    elif valor_base <= TABELA_IRRF[4][1]:\n",
    "        return TABELA_IRRF[4][0]\n",
    "    else:\n",
    "        return TABELA_IRRF[5][0]\n",
    "\n",
    "def get_deducao_irrf(valor_base):\n",
    "    if valor_base <= TABELA_IRRF[1][1]:\n",
    "        return TABELA_IRRF[1][2]\n",
    "    elif valor_base <= TABELA_IRRF[2][1]:\n",
    "        return TABELA_IRRF[2][2]\n",
    "    elif valor_base <= TABELA_IRRF[3][1]:\n",
    "        return TABELA_IRRF[3][2]\n",
    "    elif valor_base <= TABELA_IRRF[4][1]:\n",
    "        return TABELA_IRRF[4][2]\n",
    "    else:\n",
    "        return TABELA_IRRF[5][2]"
   ]
  },
  {
   "cell_type": "markdown",
   "metadata": {},
   "source": [
    "### TABELA DE SEGURO DESEMPREGO"
   ]
  },
  {
   "cell_type": "code",
   "execution_count": 15,
   "metadata": {},
   "outputs": [],
   "source": [
    "TABELA_SEGURO_DESEMPREGO = {\n",
    "    1: {'percentual': 80/100, 'valor': 1_968.37},\n",
    "    2: {'percentual': 50/100, 'valor': 3_280.93},\n",
    "    'FIXO': {'fixo': 2_230.97, 'valor': 3_280.94},\n",
    "    'MINIMO_VIGENTE': 1_320.00,\n",
    "}\n",
    "\n",
    "def get_valor_por_parcela_seg(valor_base):\n",
    "    valor_parcial1 = 0.0\n",
    "    valor_parcial2 = 0.0\n",
    "    valor_tabela_calculo = 0.0\n",
    "\n",
    "    if valor_base < TABELA_SEGURO_DESEMPREGO[1]['valor']:\n",
    "        valor_tabela_calculo = valor_base \n",
    "    else:\n",
    "        valor_tabela_calculo = TABELA_SEGURO_DESEMPREGO[1]['valor']\n",
    "    valor_parcial1 = valor_tabela_calculo * TABELA_SEGURO_DESEMPREGO[1]['percentual']\n",
    "\n",
    "    if valor_tabela_calculo == TABELA_SEGURO_DESEMPREGO[1]['valor']:\n",
    "        valor_parcial2 = valor_base - TABELA_SEGURO_DESEMPREGO[1]['valor']\n",
    "    valor_parcial2 = valor_parcial2 * TABELA_SEGURO_DESEMPREGO[2]['percentual']\n",
    "    \n",
    "    total_parcial = valor_parcial1 + valor_parcial2\n",
    "\n",
    "    if TABELA_SEGURO_DESEMPREGO['MINIMO_VIGENTE'] > total_parcial:\n",
    "        resultado_parcial = TABELA_SEGURO_DESEMPREGO['MINIMO_VIGENTE']\n",
    "    else:\n",
    "        resultado_parcial = total_parcial\n",
    "\n",
    "    if valor_base >= TABELA_SEGURO_DESEMPREGO['FIXO']['valor']:\n",
    "        resultado = TABELA_SEGURO_DESEMPREGO['FIXO']['fixo']\n",
    "    else:\n",
    "        resultado = resultado_parcial\n",
    "\n",
    "    return round(resultado, 2)"
   ]
  },
  {
   "cell_type": "markdown",
   "metadata": {},
   "source": [
    "### Datas"
   ]
  },
  {
   "cell_type": "code",
   "execution_count": 16,
   "metadata": {},
   "outputs": [],
   "source": [
    "DIA_ADMISSAO = DATA_ADMISSAO.day\n",
    "MES_ADMISSAO = DATA_ADMISSAO.month\n",
    "ANO_ADMISSAO = DATA_ADMISSAO.year\n",
    "\n",
    "DIA_DEMISSAO = DATA_DEMISSAO.day\n",
    "MES_DEMISSAO = DATA_DEMISSAO.month\n",
    "ANO_DEMISSAO = DATA_DEMISSAO.year"
   ]
  },
  {
   "cell_type": "markdown",
   "metadata": {},
   "source": [
    "## Proventos"
   ]
  },
  {
   "cell_type": "code",
   "execution_count": 17,
   "metadata": {},
   "outputs": [],
   "source": [
    "lista_vencimentos = []\n",
    "campo1_adicional_qtde = 0\n",
    "campo2_adicional_qtde = 0\n",
    "campo1_adicional_valor = 0\n",
    "campo2_adicional_valor = 0\n",
    "\n",
    "lista_vencimentos.append(campo1_adicional_valor)\n",
    "lista_vencimentos.append(campo2_adicional_valor)"
   ]
  },
  {
   "cell_type": "code",
   "execution_count": 18,
   "metadata": {},
   "outputs": [
    {
     "name": "stdout",
     "output_type": "stream",
     "text": [
      "saldo_de_salario: 30 2500.0\n"
     ]
    }
   ],
   "source": [
    "\n",
    "def get_saldo_salario_quantidade():\n",
    "    mes_ano_admissao = f'{MES_ADMISSAO:0>2}/{ANO_ADMISSAO}'\n",
    "    mes_ano_demissao = f'{MES_DEMISSAO:0>2}/{ANO_DEMISSAO}'\n",
    "\n",
    "    mesmo_mes_ano_admissao_demissao = True if mes_ano_admissao == mes_ano_demissao else False\n",
    "\n",
    "    if mesmo_mes_ano_admissao_demissao:\n",
    "        quantidade_de_dias = DIA_DEMISSAO - DIA_ADMISSAO\n",
    "        return quantidade_de_dias\n",
    "    return DIA_DEMISSAO\n",
    "\n",
    "\n",
    "saldo_de_salario_qtde = get_saldo_salario_quantidade()\n",
    "saldo_de_salario_valor = round(SALARIO_BASE/QTDE_DIAS_MES*saldo_de_salario_qtde, 2)\n",
    "lista_vencimentos.append(saldo_de_salario_valor)\n",
    "\n",
    "print('saldo_de_salario:', saldo_de_salario_qtde, saldo_de_salario_valor)"
   ]
  },
  {
   "cell_type": "code",
   "execution_count": 19,
   "metadata": {},
   "outputs": [
    {
     "name": "stdout",
     "output_type": "stream",
     "text": [
      "salario_proporcional_13: 4/12 833.33\n"
     ]
    }
   ],
   "source": [
    "def get_salario_proporcional_13_qtde(salario_qtde):\n",
    "    mesmo_ano_admissao_demissao = True if ANO_ADMISSAO == ANO_DEMISSAO else False\n",
    "    data_proporcao = None\n",
    "    if mesmo_ano_admissao_demissao:\n",
    "        data_proporcao = DATA_ADMISSAO\n",
    "    else:\n",
    "        data_proporcao = datetime.datetime.strptime(f'01/01/{ANO_DEMISSAO}', '%d/%m/%Y')\n",
    "\n",
    "    mes_proporcao = data_proporcao.month\n",
    "\n",
    "    mes_demissao = DATA_DEMISSAO.month\n",
    "    \n",
    "    if salario_qtde < 15:\n",
    "        qtde_proporcional = (mes_demissao - 1) - mes_proporcao\n",
    "    else:\n",
    "        qtde_proporcional = mes_demissao - mes_proporcao\n",
    "    \n",
    "    return qtde_proporcional + 1\n",
    "\n",
    "\n",
    "salario_proporcional_13_qtde = get_salario_proporcional_13_qtde(saldo_de_salario_qtde)\n",
    "salario_proporcional_13_valor = (SALARIO_BASE / 12) * salario_proporcional_13_qtde\n",
    "lista_vencimentos.append(salario_proporcional_13_valor)\n",
    "\n",
    "print('salario_proporcional_13:', f'{salario_proporcional_13_qtde}/12', f'{salario_proporcional_13_valor:.2f}')"
   ]
  },
  {
   "cell_type": "code",
   "execution_count": 20,
   "metadata": {},
   "outputs": [
    {
     "name": "stdout",
     "output_type": "stream",
     "text": [
      "salario_variavel_13: 4/12 0.0\n"
     ]
    }
   ],
   "source": [
    "salario_variavel_13_qtde = get_salario_proporcional_13_qtde(saldo_de_salario_qtde)\n",
    "salario_variavel_13_valor = round((MEDIAS_HORA_EXTRA / 12) * salario_proporcional_13_qtde, 2)\n",
    "lista_vencimentos.append(salario_variavel_13_valor)\n",
    "\n",
    "print('salario_variavel_13:', f'{salario_variavel_13_qtde}/12', salario_variavel_13_valor)"
   ]
  },
  {
   "cell_type": "code",
   "execution_count": 21,
   "metadata": {},
   "outputs": [
    {
     "name": "stdout",
     "output_type": "stream",
     "text": [
      "salario_indenizado_13 01/12 208.33\n"
     ]
    }
   ],
   "source": [
    "if MOTIVO != 1 or AVISO_PREVIO != 1:\n",
    "    salario_indenizado_13_qtde = 0\n",
    "    salario_indenizado_13_valor = 0\n",
    "else:\n",
    "    salario_indenizado_13_qtde = 1\n",
    "    salario_indenizado_13_valor = (SALARIO_BASE + MEDIAS_HORA_EXTRA) / 12\n",
    "\n",
    "lista_vencimentos.append(salario_indenizado_13_valor)\n",
    "\n",
    "print('salario_indenizado_13', F'{salario_indenizado_13_qtde:0>2}/12', round(salario_indenizado_13_valor,2))"
   ]
  },
  {
   "cell_type": "code",
   "execution_count": 22,
   "metadata": {},
   "outputs": [
    {
     "name": "stdout",
     "output_type": "stream",
     "text": [
      "ferias_vencidas: 0 0.0\n"
     ]
    }
   ],
   "source": [
    "ferias_vencidas_qtde = None\n",
    "if FERIAS_VENCIDAS == 1:\n",
    "    ferias_vencidas_qtde = 0\n",
    "elif FERIAS_VENCIDAS == 2:\n",
    "    ferias_vencidas_qtde = 1\n",
    "elif FERIAS_VENCIDAS == 3:\n",
    "    ferias_vencidas_qtde = 3\n",
    "\n",
    "ferias_vencidas_valor = (SALARIO_BASE + MEDIAS_HORA_EXTRA) * ferias_vencidas_qtde\n",
    "lista_vencimentos.append(ferias_vencidas_valor)\n",
    "\n",
    "print('ferias_vencidas:', ferias_vencidas_qtde, ferias_vencidas_valor)"
   ]
  },
  {
   "cell_type": "code",
   "execution_count": 23,
   "metadata": {},
   "outputs": [],
   "source": [
    "def get_ferias_proporcionais_qtde():\n",
    "    \n",
    "    if DIA_DEMISSAO >= 15:\n",
    "        qtde_dias_mes_demissao = calendar.monthrange(DATA_DEMISSAO.year, DATA_DEMISSAO.month)[-1]\n",
    "    else:\n",
    "        qtde_dias_mes_demissao = 1\n",
    "\n",
    "    data_dia_mes_admissao__ano_dem = datetime.datetime.strptime(f'{DIA_ADMISSAO}/{MES_ADMISSAO}/{ANO_DEMISSAO}', '%d/%m/%Y')\n",
    "    data_qtde_dias__mes_ano_demissao = datetime.datetime.strptime(f'{qtde_dias_mes_demissao}/{MES_DEMISSAO}/{ANO_DEMISSAO}', '%d/%m/%Y')\n",
    "    data_dia_mes_admissao__ano_anterior = data_dia_mes_admissao__ano_dem - datetime.timedelta(days=365)\n",
    "\n",
    "    dia_mes_admissao_maior_que_dia_mes_demissao = data_dia_mes_admissao__ano_dem > data_qtde_dias__mes_ano_demissao\n",
    "\n",
    "    if dia_mes_admissao_maior_que_dia_mes_demissao:\n",
    "        result = data_qtde_dias__mes_ano_demissao - data_dia_mes_admissao__ano_anterior\n",
    "    else:\n",
    "        if (DATA_DEMISSAO - DATA_ADMISSAO).days > 365:\n",
    "            result = data_qtde_dias__mes_ano_demissao - data_dia_mes_admissao__ano_dem\n",
    "        else:\n",
    "            result = data_qtde_dias__mes_ano_demissao - DATA_ADMISSAO\n",
    "\n",
    "    if result.days > 14:\n",
    "        if result.days <= 30:\n",
    "            valor_calculo = 30\n",
    "        else:\n",
    "            valor_calculo = result.days\n",
    "    else:\n",
    "        valor_calculo = 0\n",
    "\n",
    "    valor_calculo = (valor_calculo / 30 + 0.000001)\n",
    "    valor_calculo_arredon_acima = math.ceil(valor_calculo)\n",
    "    valor_calculo_arredon_abaixo = math.floor(valor_calculo)\n",
    "    \n",
    "    if valor_calculo_arredon_acima < (valor_calculo - valor_calculo_arredon_abaixo):\n",
    "        resultado_final = valor_calculo_arredon_acima\n",
    "    else:\n",
    "        resultado_final = valor_calculo_arredon_abaixo\n",
    "    \n",
    "    return resultado_final"
   ]
  },
  {
   "cell_type": "code",
   "execution_count": 24,
   "metadata": {},
   "outputs": [
    {
     "name": "stdout",
     "output_type": "stream",
     "text": [
      "ferias_proporcionais: 4/12 833.33\n"
     ]
    }
   ],
   "source": [
    "ferias_proporcionais_qtde = get_ferias_proporcionais_qtde()\n",
    "ferias_proporcionais_valor = round((SALARIO_BASE + MEDIAS_HORA_EXTRA) / 12 * ferias_proporcionais_qtde, 2)\n",
    "lista_vencimentos.append(ferias_proporcionais_valor)\n",
    "\n",
    "print('ferias_proporcionais:', f'{ferias_proporcionais_qtde}/12', ferias_proporcionais_valor)"
   ]
  },
  {
   "cell_type": "code",
   "execution_count": 25,
   "metadata": {},
   "outputs": [
    {
     "name": "stdout",
     "output_type": "stream",
     "text": [
      "ferias_indenizadas: 1 208.33\n"
     ]
    }
   ],
   "source": [
    "ferias_indenizadas_qtde = salario_indenizado_13_qtde\n",
    "ferias_indenizadas_valor = round(salario_indenizado_13_valor, 2)\n",
    "lista_vencimentos.append(ferias_indenizadas_valor)\n",
    "\n",
    "print('ferias_indenizadas:', ferias_indenizadas_qtde, ferias_indenizadas_valor)"
   ]
  },
  {
   "cell_type": "code",
   "execution_count": 26,
   "metadata": {},
   "outputs": [
    {
     "name": "stdout",
     "output_type": "stream",
     "text": [
      "um_terco_sobre_ferias: 01/03 347.22\n"
     ]
    }
   ],
   "source": [
    "um_terco_sobre_ferias_qtde = '01/03'\n",
    "um_terco_sobre_ferias_valor = round(sum([ferias_vencidas_valor, ferias_proporcionais_valor, ferias_indenizadas_valor]) / 3, 2)\n",
    "lista_vencimentos.append(um_terco_sobre_ferias_valor)\n",
    "\n",
    "print('um_terco_sobre_ferias:', um_terco_sobre_ferias_qtde, um_terco_sobre_ferias_valor)"
   ]
  },
  {
   "cell_type": "code",
   "execution_count": 27,
   "metadata": {},
   "outputs": [
    {
     "name": "stdout",
     "output_type": "stream",
     "text": [
      "horas_extras_50:  0.0 0.0\n",
      "horas_extras_100: 0.0 0.0\n"
     ]
    }
   ],
   "source": [
    "qtde_horas = int(HORAS_EXTRAS_QUANTIDADE)\n",
    "qtde_minutos = (HORAS_EXTRAS_QUANTIDADE - qtde_horas) * 100\n",
    "total_em_minutos = (qtde_horas * 60) + qtde_minutos\n",
    "resultado_total_he = total_em_minutos / 60\n",
    "\n",
    "horas_extras_50_valor = round(((SALARIO_BASE / 220) + ((SALARIO_BASE / 220) * HORAS_EXTRAS_PERCENTUAL)) * resultado_total_he, 2)\n",
    "horas_extras_100_valor = round((SALARIO_BASE / 220) * 2 * HORA_EXTRA_100, 2)\n",
    "lista_vencimentos.append(horas_extras_50_valor)\n",
    "lista_vencimentos.append(horas_extras_100_valor)\n",
    "\n",
    "print('horas_extras_50: ', HORAS_EXTRAS_QUANTIDADE, horas_extras_50_valor)\n",
    "print('horas_extras_100:', HORA_EXTRA_100, horas_extras_100_valor)"
   ]
  },
  {
   "cell_type": "code",
   "execution_count": 28,
   "metadata": {},
   "outputs": [],
   "source": [
    "def get_aviso_previo_inden_valor():\n",
    "    salario_base_por_30 = (SALARIO_BASE / 30)\n",
    "    \n",
    "    salario_base_mais_medias_he = (SALARIO_BASE + MEDIAS_HORA_EXTRA)\n",
    "\n",
    "    qtde_total_dias_registro = (DATA_DEMISSAO - DATA_ADMISSAO).days\n",
    "    qtde_anos_resgistro = qtde_total_dias_registro / 365\n",
    "    qtde_anos_arredondado_acima = math.floor(qtde_anos_resgistro)\n",
    "    \n",
    "    result = (salario_base_por_30 * (qtde_anos_arredondado_acima * 3)) + salario_base_mais_medias_he\n",
    "    return result"
   ]
  },
  {
   "cell_type": "code",
   "execution_count": 29,
   "metadata": {},
   "outputs": [
    {
     "name": "stdout",
     "output_type": "stream",
     "text": [
      "aviso_previo_inden: 1 2750.0\n"
     ]
    }
   ],
   "source": [
    "aviso_previo_inden_qtde = 0\n",
    "aviso_previo_inden_valor = 0\n",
    "if AVISO_PREVIO == 1:\n",
    "    aviso_previo_inden_qtde = 1\n",
    "    aviso_previo_inden_valor = get_aviso_previo_inden_valor()\n",
    "\n",
    "lista_vencimentos.append(aviso_previo_inden_valor)\n",
    "\n",
    "print('aviso_previo_inden:', aviso_previo_inden_qtde, aviso_previo_inden_valor)"
   ]
  },
  {
   "cell_type": "code",
   "execution_count": 30,
   "metadata": {},
   "outputs": [
    {
     "name": "stdout",
     "output_type": "stream",
     "text": [
      "total_vencimentos: 7680.55\n"
     ]
    }
   ],
   "source": [
    "total_vencimentos = round(sum(lista_vencimentos), 2)\n",
    "\n",
    "print('total_vencimentos:', total_vencimentos)"
   ]
  },
  {
   "cell_type": "markdown",
   "metadata": {},
   "source": [
    "## Descontos"
   ]
  },
  {
   "cell_type": "code",
   "execution_count": 31,
   "metadata": {},
   "outputs": [],
   "source": [
    "lista_descontos = []\n",
    "lista_vencimento_base_calc_inss = [\n",
    "    saldo_de_salario_valor,\n",
    "    horas_extras_50_valor,\n",
    "    horas_extras_100_valor,\n",
    "    campo1_adicional_valor,\n",
    "    campo2_adicional_valor,\n",
    "]\n",
    "\n",
    "valor_base_calculo_inss = sum(lista_vencimento_base_calc_inss)\n",
    "valor_base_calculo_13 = sum([salario_proporcional_13_valor, salario_variavel_13_valor])"
   ]
  },
  {
   "cell_type": "code",
   "execution_count": 32,
   "metadata": {},
   "outputs": [
    {
     "name": "stdout",
     "output_type": "stream",
     "text": [
      "inss_sobre_saldo_salario: 0.09 225.0\n"
     ]
    }
   ],
   "source": [
    "inss_sobre_saldo_salario_qtde = get_percentual_contribuicao_inss(valor_base_calculo_inss)\n",
    "inss_sobre_saldo_salario_valor = get_valor_contribuicao_inss(valor_base_calculo_inss)\n",
    "lista_descontos.append(inss_sobre_saldo_salario_valor)\n",
    "\n",
    "print('inss_sobre_saldo_salario:', inss_sobre_saldo_salario_qtde, inss_sobre_saldo_salario_valor)"
   ]
  },
  {
   "cell_type": "code",
   "execution_count": 33,
   "metadata": {},
   "outputs": [
    {
     "name": "stdout",
     "output_type": "stream",
     "text": [
      "atrasos_faltas: 0.0 0.0\n"
     ]
    }
   ],
   "source": [
    "qtde_horas = int(ATRASOS_FALTAS)\n",
    "qtde_minutos = (ATRASOS_FALTAS - qtde_horas) * 100\n",
    "total_em_minutos = (qtde_horas * 60) + qtde_minutos\n",
    "resultado_atrasos_faltas = total_em_minutos / 60\n",
    "\n",
    "atrasos_faltas_qtde = ATRASOS_FALTAS\n",
    "atrasos_faltas_valor = round(resultado_atrasos_faltas * (SALARIO_BASE / 220), 2)\n",
    "lista_descontos.append(atrasos_faltas_valor)\n",
    "\n",
    "print('atrasos_faltas:', atrasos_faltas_qtde, atrasos_faltas_valor)"
   ]
  },
  {
   "cell_type": "code",
   "execution_count": 34,
   "metadata": {},
   "outputs": [],
   "source": [
    "lista_vencimentos_base_calc_irrf = [\n",
    "    saldo_de_salario_valor,\n",
    "    horas_extras_50_valor,\n",
    "    horas_extras_100_valor,\n",
    "    aviso_previo_inden_valor,\n",
    "    campo1_adicional_valor,\n",
    "    campo2_adicional_valor,\n",
    "]\n",
    "\n",
    "lista_vencimentos_13_base_calc_irrf = [\n",
    "    salario_indenizado_13_valor,\n",
    "    salario_variavel_13_valor,\n",
    "    salario_proporcional_13_valor,\n",
    "]\n",
    "\n",
    "valor_base_calculo_irrf = sum(lista_vencimentos_base_calc_irrf) - inss_sobre_saldo_salario_valor - atrasos_faltas_valor\n",
    "\n",
    "if DEPENDENTES > 5 :\n",
    "    valor_base_calculo_irrf_sobre_13 = sum(lista_vencimentos_13_base_calc_irrf) - (5 * TABELA_IRRF[6][1])\n",
    "else:\n",
    "    valor_base_calculo_irrf_sobre_13 = sum(lista_vencimentos_13_base_calc_irrf) - (DEPENDENTES * TABELA_IRRF[6][1])"
   ]
  },
  {
   "cell_type": "code",
   "execution_count": 35,
   "metadata": {},
   "outputs": [
    {
     "name": "stdout",
     "output_type": "stream",
     "text": [
      "inss_sobre_salario_13: 0.075 62.5\n"
     ]
    }
   ],
   "source": [
    "inss_sobre_salario_13_qtde = get_percentual_contribuicao_inss(valor_base_calculo_13)\n",
    "inss_sobre_salario_13_valor = get_valor_contribuicao_inss(valor_base_calculo_13)\n",
    "lista_descontos.append(inss_sobre_salario_13_valor)\n",
    "\n",
    "print('inss_sobre_salario_13:', inss_sobre_salario_13_qtde, inss_sobre_salario_13_valor)"
   ]
  },
  {
   "cell_type": "code",
   "execution_count": 36,
   "metadata": {},
   "outputs": [
    {
     "name": "stdout",
     "output_type": "stream",
     "text": [
      "irrf_sobre_salario: 0.275 496.91\n"
     ]
    }
   ],
   "source": [
    "def get_valor_irrf(valor_base: float):\n",
    "    resultado_parcial_irrf = valor_base * get_percentual_irrf(valor_base)\n",
    "    deducao_irrf = get_deducao_irrf(valor_base)\n",
    "    return round(resultado_parcial_irrf - deducao_irrf, 2)\n",
    "\n",
    "\n",
    "irrf_sobre_salario_qtde = get_percentual_irrf(valor_base_calculo_irrf)\n",
    "irrf_sobre_salario_valor = get_valor_irrf(valor_base_calculo_irrf)\n",
    "lista_descontos.append(irrf_sobre_salario_valor)\n",
    "\n",
    "print('irrf_sobre_salario:', irrf_sobre_salario_qtde, irrf_sobre_salario_valor)"
   ]
  },
  {
   "cell_type": "code",
   "execution_count": 37,
   "metadata": {},
   "outputs": [
    {
     "name": "stdout",
     "output_type": "stream",
     "text": [
      "irrf_sobre_salario_13: 0.0 0.0\n"
     ]
    }
   ],
   "source": [
    "irrf_sobre_salario_13_qtde = get_percentual_irrf(valor_base_calculo_irrf_sobre_13)\n",
    "irrf_sobre_salario_13_valor = get_valor_irrf(valor_base_calculo_irrf_sobre_13)\n",
    "lista_descontos.append(irrf_sobre_salario_13_valor)\n",
    "\n",
    "print('irrf_sobre_salario_13:', irrf_sobre_salario_13_qtde, irrf_sobre_salario_13_valor)"
   ]
  },
  {
   "cell_type": "code",
   "execution_count": 38,
   "metadata": {},
   "outputs": [
    {
     "name": "stdout",
     "output_type": "stream",
     "text": [
      "desconto_aviso_previo: 0 0.0\n"
     ]
    }
   ],
   "source": [
    "desconto_aviso_previo_qtde = 0\n",
    "desconto_aviso_previo_valor = 0.0\n",
    "\n",
    "if MOTIVO == 2 and AVISO_PREVIO == 3:\n",
    "    desconto_aviso_previo_qtde = 1\n",
    "    desconto_aviso_previo_valor = SALARIO_BASE + MEDIAS_HORA_EXTRA\n",
    "\n",
    "lista_descontos.append(desconto_aviso_previo_valor)\n",
    "\n",
    "print('desconto_aviso_previo:', desconto_aviso_previo_qtde, desconto_aviso_previo_valor)"
   ]
  },
  {
   "cell_type": "code",
   "execution_count": 39,
   "metadata": {},
   "outputs": [],
   "source": [
    "adiantamentos_qtde = 0\n",
    "adiantamentos_valor = 0.0\n",
    "lista_descontos.append(adiantamentos_valor)"
   ]
  },
  {
   "cell_type": "code",
   "execution_count": 40,
   "metadata": {},
   "outputs": [
    {
     "name": "stdout",
     "output_type": "stream",
     "text": [
      "total_descontos: 784.41\n"
     ]
    }
   ],
   "source": [
    "total_descontos = round(sum(lista_descontos), 2)\n",
    "\n",
    "\n",
    "print('total_descontos:', total_descontos)"
   ]
  },
  {
   "cell_type": "markdown",
   "metadata": {},
   "source": [
    "### LÍQUIDO DE RECISÃO"
   ]
  },
  {
   "cell_type": "code",
   "execution_count": 41,
   "metadata": {},
   "outputs": [
    {
     "name": "stdout",
     "output_type": "stream",
     "text": [
      "TOTAL DE VENCIMENTOS: 7680.55\n",
      "TOTAL DE DESCONTOS:    784.41\n",
      "LIQUÍDO DE RECISÃO:   6896.14\n"
     ]
    }
   ],
   "source": [
    "liquido_de_rescisao = total_vencimentos - total_descontos\n",
    "\n",
    "print('TOTAL DE VENCIMENTOS:', total_vencimentos)\n",
    "print('TOTAL DE DESCONTOS:   ', total_descontos)\n",
    "print('LIQUÍDO DE RECISÃO:  ', liquido_de_rescisao)"
   ]
  },
  {
   "cell_type": "markdown",
   "metadata": {},
   "source": [
    "### CÁLCULO DE MULTA DO FGTS"
   ]
  },
  {
   "cell_type": "code",
   "execution_count": 42,
   "metadata": {},
   "outputs": [],
   "source": [
    "GRRF = {\n",
    "    '40': 40/100,\n",
    "    '50': 50/100,\n",
    "}['40']\n",
    "\n",
    "FGTS_DEPOSITADO = 1000.0"
   ]
  },
  {
   "cell_type": "code",
   "execution_count": 43,
   "metadata": {},
   "outputs": [],
   "source": [
    "lista_base_calculo_fgts_vencimento = [\n",
    "    saldo_de_salario_valor,\n",
    "    salario_proporcional_13_valor,\n",
    "    salario_variavel_13_valor,\n",
    "    horas_extras_50_valor,\n",
    "    horas_extras_100_valor,\n",
    "    campo1_adicional_valor,\n",
    "    campo2_adicional_valor,\n",
    "]\n",
    "\n",
    "valor_base_calculo_fgts_vencimento = sum(lista_base_calculo_fgts_vencimento)"
   ]
  },
  {
   "cell_type": "code",
   "execution_count": 44,
   "metadata": {},
   "outputs": [
    {
     "name": "stdout",
     "output_type": "stream",
     "text": [
      "calculo_grrf:      400.0\n",
      "fgts_vencimentos:  266.67\n",
      "fgts_aviso_previo: 236.67\n",
      "total_conta_fgts:  1823.34\n",
      "total_guia_grfc:   903.34\n"
     ]
    }
   ],
   "source": [
    "calculo_grrf = round(0.0 if MOTIVO !=1 else FGTS_DEPOSITADO * GRRF, 2)\n",
    "fgts_vencimentos = round(valor_base_calculo_fgts_vencimento * (8/100), 2)\n",
    "fgts_aviso_previo = round((aviso_previo_inden_valor + salario_indenizado_13_valor) * (8/100), 2)\n",
    "total_conta_fgts = round(sum([FGTS_DEPOSITADO, calculo_grrf * 80/100, fgts_vencimentos, fgts_aviso_previo]), 2)\n",
    "\n",
    "\n",
    "total_guia_grfc = sum([\n",
    "    calculo_grrf,\n",
    "    fgts_vencimentos,\n",
    "    fgts_aviso_previo,\n",
    "])\n",
    "\n",
    "print('calculo_grrf:     ', calculo_grrf)\n",
    "print('fgts_vencimentos: ', fgts_vencimentos)\n",
    "print('fgts_aviso_previo:', fgts_aviso_previo)\n",
    "print('total_conta_fgts: ', total_conta_fgts)\n",
    "print('total_guia_grfc:  ', total_guia_grfc)\n"
   ]
  },
  {
   "cell_type": "markdown",
   "metadata": {},
   "source": [
    "### CÁLCULO DE SEGURO DESEMPREGO"
   ]
  },
  {
   "cell_type": "code",
   "execution_count": 45,
   "metadata": {},
   "outputs": [],
   "source": [
    "MAPA_PARCELAS_SEGURO = {\n",
    "    1:\t0,  2:\t0,  3:\t0,  4:\t0,  5:\t0,  6:\t3,  7:\t3,\n",
    "    8:\t3,  9:\t3,  10:\t3,  11:\t3,  12:\t4,  13:\t4,  14:\t4,  \n",
    "    15:\t4,  16:\t4,  17:\t4,  18:\t4,  19:\t4,  20:\t4,  21:\t4,\n",
    "    22:\t4,  23:\t4,  24:\t5,  25:\t5,  0:\t0,}\n",
    "\n",
    "def get_numero_parcelas():\n",
    "    meses_trabalhado = (DATA_DEMISSAO - DATA_ADMISSAO).days // 30\n",
    "    if meses_trabalhado > 25:\n",
    "        return MAPA_PARCELAS_SEGURO[25]\n",
    "    return MAPA_PARCELAS_SEGURO[meses_trabalhado]\n",
    "\n",
    "\n",
    "valor_media_salarial_base_calculo = SALARIO_BASE + MEDIAS_HORA_EXTRA\n"
   ]
  },
  {
   "cell_type": "code",
   "execution_count": 46,
   "metadata": {},
   "outputs": [
    {
     "name": "stdout",
     "output_type": "stream",
     "text": [
      "media_salarial:          2500.0\n",
      "numero_parcelas:         4\n",
      "valor_por_parcela:       1840.51\n",
      "total_seguro_desemprego: 7362.04\n"
     ]
    }
   ],
   "source": [
    "media_salarial = 0.0 if MOTIVO != 1 else valor_media_salarial_base_calculo\n",
    "numero_parcelas = 0 if MOTIVO != 1 else get_numero_parcelas()\n",
    "valor_por_parcela = 0.0 if MOTIVO != 1 and numero_parcelas == 0 else get_valor_por_parcela_seg(valor_media_salarial_base_calculo)\n",
    "total_seguro_desemprego = round(0.0 if MOTIVO != 1 else numero_parcelas * valor_por_parcela, 2)\n",
    "\n",
    "print('media_salarial:         ', media_salarial)\n",
    "print('numero_parcelas:        ', numero_parcelas)\n",
    "print('valor_por_parcela:      ', valor_por_parcela)\n",
    "print('total_seguro_desemprego:', total_seguro_desemprego)"
   ]
  },
  {
   "cell_type": "code",
   "execution_count": 47,
   "metadata": {},
   "outputs": [
    {
     "name": "stdout",
     "output_type": "stream",
     "text": [
      "RESCISÃO + MULTA FGTS + SEGURO DESEMPREGO: 15161.52\n"
     ]
    }
   ],
   "source": [
    "resultado_da_rescisao = sum(\n",
    "    [liquido_de_rescisao, total_guia_grfc, total_seguro_desemprego]\n",
    ")\n",
    "\n",
    "print('RESCISÃO + MULTA FGTS + SEGURO DESEMPREGO:', resultado_da_rescisao)"
   ]
  },
  {
   "cell_type": "markdown",
   "metadata": {},
   "source": [
    "## RESUMO DE CÁLCULO DE RECISÃO"
   ]
  },
  {
   "cell_type": "code",
   "execution_count": 48,
   "metadata": {},
   "outputs": [
    {
     "name": "stdout",
     "output_type": "stream",
     "text": [
      "---------------------------------------------------------------\n",
      "RESCISÃO:\n",
      "VALOR LÍQUIDO DA RESCISÃO......................... R$ 6896.14\n",
      "\n",
      "FUNDO DE GARANTIA:\n",
      "TOTAL GRFC (SOMENTE A PARTE DO FUNCIONÁRIO):...... R$ 823.34\n",
      "TOTAL DEPOSITADO NA CONTA DO FGTS:................ R$ 1823.34\n",
      "\n",
      "---------------------------------------------------------------\n",
      "SEGURO DESEMPREGO (VALORES ESTIMADOS):\n",
      "QUANTIDADE DE PARCELAS:...........................  4\n",
      "VALOR POR PARCELA:................................ R$ 1840.51\n",
      "TOTAL A RECEBER (SEGURO DESEMPREGO):.............. R$ 7362.04\n",
      "\n",
      "---------------------------------------------------------------\n",
      "VALOR TOTAL A RECEBER:\n",
      "RESCISÃO.......................................... R$ 6896.14\n",
      "MULTA FGTS:....................................... R$ 823.34\n",
      "FGTS DEPOSITADO:.................................. R$ 1000.0\n",
      "SEGURO DESEMPREGO:................................ R$ 7362.04\n",
      "---------------------------------------------------------------\n",
      "TOTAL A RECEBER:.................................. R$ 16081.52\n"
     ]
    }
   ],
   "source": [
    "total_grf_parte_funcionario = sum([calculo_grrf*80/100, fgts_vencimentos, fgts_aviso_previo])\n",
    "\n",
    "print('-' * 63)\n",
    "print('RESCISÃO:')\n",
    "print(f'{\"VALOR LÍQUIDO DA RESCISÃO\":.<50}', f'R$ {liquido_de_rescisao}')\n",
    "print()\n",
    "print('FUNDO DE GARANTIA:')\n",
    "print(f'{\"TOTAL GRFC (SOMENTE A PARTE DO FUNCIONÁRIO):\":.<50}', f'R$ {total_grf_parte_funcionario}')\n",
    "print(f'{\"TOTAL DEPOSITADO NA CONTA DO FGTS:\":.<50}', f'R$ {total_conta_fgts}')\n",
    "print()\n",
    "print('-' * 63)\n",
    "print('SEGURO DESEMPREGO (VALORES ESTIMADOS):')\n",
    "print(f'{\"QUANTIDADE DE PARCELAS:\":.<50}', f' {numero_parcelas}')\n",
    "print(f'{\"VALOR POR PARCELA:\":.<50}', f'R$ {valor_por_parcela}')\n",
    "print(f'{\"TOTAL A RECEBER (SEGURO DESEMPREGO):\":.<50}', f'R$ {total_seguro_desemprego}')\n",
    "print()\n",
    "print('-' * 63)\n",
    "print('VALOR TOTAL A RECEBER:')\n",
    "print(f'{\"RESCISÃO\":.<50}', f'R$ {liquido_de_rescisao}')\n",
    "print(f'{\"MULTA FGTS:\":.<50}', f'R$ {total_grf_parte_funcionario}')\n",
    "print(f'{\"FGTS DEPOSITADO:\":.<50}', f'R$ {FGTS_DEPOSITADO}')\n",
    "print(f'{\"SEGURO DESEMPREGO:\":.<50}', f'R$ {total_seguro_desemprego}')\n",
    "print('-' * 63)\n",
    "TOTAL_RESUMO = sum([\n",
    "    liquido_de_rescisao,\n",
    "    total_grf_parte_funcionario,\n",
    "    FGTS_DEPOSITADO,\n",
    "    total_seguro_desemprego,\n",
    "])\n",
    "print(f'{\"TOTAL A RECEBER:\":.<50}', f'R$ {TOTAL_RESUMO}')"
   ]
  }
 ],
 "metadata": {
  "kernelspec": {
   "display_name": "base",
   "language": "python",
   "name": "python3"
  },
  "language_info": {
   "codemirror_mode": {
    "name": "ipython",
    "version": 3
   },
   "file_extension": ".py",
   "mimetype": "text/x-python",
   "name": "python",
   "nbconvert_exporter": "python",
   "pygments_lexer": "ipython3",
   "version": "3.10.9"
  }
 },
 "nbformat": 4,
 "nbformat_minor": 2
}
